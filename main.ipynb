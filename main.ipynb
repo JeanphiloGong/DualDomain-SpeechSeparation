{
 "cells": [
  {
   "cell_type": "markdown",
   "id": "73470184-f6af-416a-aac9-ad4337eb0b14",
   "metadata": {},
   "source": [
    "# 1.环境准备"
   ]
  },
  {
   "cell_type": "markdown",
   "id": "f601caaf-9d04-4c4b-9e7c-05bbf25b622b",
   "metadata": {
    "jp-MarkdownHeadingCollapsed": true
   },
   "source": [
    "## 1.1 安装 PyTorch 和相关依赖"
   ]
  },
  {
   "cell_type": "markdown",
   "id": "f2397e39-a854-47fc-a43a-a9cc72da0ea3",
   "metadata": {},
   "source": [
    "(1) 安装 PyTorch"
   ]
  },
  {
   "cell_type": "code",
   "execution_count": 2,
   "id": "a54220e7-7823-44af-8564-4c680a5269cb",
   "metadata": {
    "scrolled": true
   },
   "outputs": [
    {
     "name": "stdout",
     "output_type": "stream",
     "text": [
      "Looking in indexes: https://download.pytorch.org/whl/cu121\n",
      "Requirement already satisfied: torch in /opt/anaconda3/lib/python3.12/site-packages (2.6.0)\n",
      "Requirement already satisfied: torchvision in /opt/anaconda3/lib/python3.12/site-packages (0.21.0)\n",
      "Requirement already satisfied: torchaudio in /opt/anaconda3/lib/python3.12/site-packages (2.6.0)\n",
      "Requirement already satisfied: filelock in /opt/anaconda3/lib/python3.12/site-packages (from torch) (3.13.1)\n",
      "Requirement already satisfied: typing-extensions>=4.10.0 in /opt/anaconda3/lib/python3.12/site-packages (from torch) (4.12.2)\n",
      "Requirement already satisfied: networkx in /opt/anaconda3/lib/python3.12/site-packages (from torch) (3.3)\n",
      "Requirement already satisfied: jinja2 in /opt/anaconda3/lib/python3.12/site-packages (from torch) (3.1.4)\n",
      "Requirement already satisfied: fsspec in /opt/anaconda3/lib/python3.12/site-packages (from torch) (2024.6.1)\n",
      "Requirement already satisfied: nvidia-cuda-nvrtc-cu12==12.4.127 in /opt/anaconda3/lib/python3.12/site-packages (from torch) (12.4.127)\n",
      "Requirement already satisfied: nvidia-cuda-runtime-cu12==12.4.127 in /opt/anaconda3/lib/python3.12/site-packages (from torch) (12.4.127)\n",
      "Requirement already satisfied: nvidia-cuda-cupti-cu12==12.4.127 in /opt/anaconda3/lib/python3.12/site-packages (from torch) (12.4.127)\n",
      "Requirement already satisfied: nvidia-cudnn-cu12==9.1.0.70 in /opt/anaconda3/lib/python3.12/site-packages (from torch) (9.1.0.70)\n",
      "Requirement already satisfied: nvidia-cublas-cu12==12.4.5.8 in /opt/anaconda3/lib/python3.12/site-packages (from torch) (12.4.5.8)\n",
      "Requirement already satisfied: nvidia-cufft-cu12==11.2.1.3 in /opt/anaconda3/lib/python3.12/site-packages (from torch) (11.2.1.3)\n",
      "Requirement already satisfied: nvidia-curand-cu12==10.3.5.147 in /opt/anaconda3/lib/python3.12/site-packages (from torch) (10.3.5.147)\n",
      "Requirement already satisfied: nvidia-cusolver-cu12==11.6.1.9 in /opt/anaconda3/lib/python3.12/site-packages (from torch) (11.6.1.9)\n",
      "Requirement already satisfied: nvidia-cusparse-cu12==12.3.1.170 in /opt/anaconda3/lib/python3.12/site-packages (from torch) (12.3.1.170)\n",
      "Requirement already satisfied: nvidia-cusparselt-cu12==0.6.2 in /opt/anaconda3/lib/python3.12/site-packages (from torch) (0.6.2)\n",
      "Requirement already satisfied: nvidia-nccl-cu12==2.21.5 in /opt/anaconda3/lib/python3.12/site-packages (from torch) (2.21.5)\n",
      "Requirement already satisfied: nvidia-nvtx-cu12==12.4.127 in /opt/anaconda3/lib/python3.12/site-packages (from torch) (12.4.127)\n",
      "Requirement already satisfied: nvidia-nvjitlink-cu12==12.4.127 in /opt/anaconda3/lib/python3.12/site-packages (from torch) (12.4.127)\n",
      "Requirement already satisfied: triton==3.2.0 in /opt/anaconda3/lib/python3.12/site-packages (from torch) (3.2.0)\n",
      "Requirement already satisfied: setuptools in /opt/anaconda3/lib/python3.12/site-packages (from torch) (75.1.0)\n",
      "Requirement already satisfied: sympy==1.13.1 in /opt/anaconda3/lib/python3.12/site-packages (from torch) (1.13.1)\n",
      "Requirement already satisfied: mpmath<1.4,>=1.1.0 in /opt/anaconda3/lib/python3.12/site-packages (from sympy==1.13.1->torch) (1.3.0)\n",
      "Requirement already satisfied: numpy in /opt/anaconda3/lib/python3.12/site-packages (from torchvision) (1.26.4)\n",
      "Requirement already satisfied: pillow!=8.3.*,>=5.3.0 in /opt/anaconda3/lib/python3.12/site-packages (from torchvision) (10.4.0)\n",
      "Requirement already satisfied: MarkupSafe>=2.0 in /opt/anaconda3/lib/python3.12/site-packages (from jinja2->torch) (2.1.3)\n",
      "\u001b[33mWARNING: Running pip as the 'root' user can result in broken permissions and conflicting behaviour with the system package manager, possibly rendering your system unusable.It is recommended to use a virtual environment instead: https://pip.pypa.io/warnings/venv. Use the --root-user-action option if you know what you are doing and want to suppress this warning.\u001b[0m\u001b[33m\n",
      "\u001b[0m"
     ]
    }
   ],
   "source": [
    "# 根据你的环境选择 PyTorch 版本\n",
    "!pip install torch torchvision torchaudio --index-url https://download.pytorch.org/whl/cu121"
   ]
  },
  {
   "cell_type": "markdown",
   "id": "ad98f66f-23ed-44e3-b021-f8d66e70c58f",
   "metadata": {},
   "source": [
    "(2) 安装其他依赖"
   ]
  },
  {
   "cell_type": "code",
   "execution_count": 3,
   "id": "eb9faa96-cbb6-44bd-85a6-f5baa6ccdd08",
   "metadata": {
    "scrolled": true
   },
   "outputs": [
    {
     "name": "stdout",
     "output_type": "stream",
     "text": [
      "Looking in indexes: http://172.16.2.230:8501/simple/\n",
      "Requirement already satisfied: numpy in /opt/anaconda3/lib/python3.12/site-packages (1.26.4)\n",
      "Requirement already satisfied: scipy in /opt/anaconda3/lib/python3.12/site-packages (1.13.1)\n",
      "Requirement already satisfied: librosa in /opt/anaconda3/lib/python3.12/site-packages (0.11.0)\n",
      "Requirement already satisfied: torchaudio in /opt/anaconda3/lib/python3.12/site-packages (2.6.0)\n",
      "Requirement already satisfied: audioread>=2.1.9 in /opt/anaconda3/lib/python3.12/site-packages (from librosa) (3.0.1)\n",
      "Requirement already satisfied: numba>=0.51.0 in /opt/anaconda3/lib/python3.12/site-packages (from librosa) (0.60.0)\n",
      "Requirement already satisfied: scikit-learn>=1.1.0 in /opt/anaconda3/lib/python3.12/site-packages (from librosa) (1.5.1)\n",
      "Requirement already satisfied: joblib>=1.0 in /opt/anaconda3/lib/python3.12/site-packages (from librosa) (1.4.2)\n",
      "Requirement already satisfied: decorator>=4.3.0 in /opt/anaconda3/lib/python3.12/site-packages (from librosa) (5.1.1)\n",
      "Requirement already satisfied: soundfile>=0.12.1 in /opt/anaconda3/lib/python3.12/site-packages (from librosa) (0.13.1)\n",
      "Requirement already satisfied: pooch>=1.1 in /opt/anaconda3/lib/python3.12/site-packages (from librosa) (1.8.2)\n",
      "Requirement already satisfied: soxr>=0.3.2 in /opt/anaconda3/lib/python3.12/site-packages (from librosa) (0.5.0.post1)\n",
      "Requirement already satisfied: typing_extensions>=4.1.1 in /opt/anaconda3/lib/python3.12/site-packages (from librosa) (4.12.2)\n",
      "Requirement already satisfied: lazy_loader>=0.1 in /opt/anaconda3/lib/python3.12/site-packages (from librosa) (0.4)\n",
      "Requirement already satisfied: msgpack>=1.0 in /opt/anaconda3/lib/python3.12/site-packages (from librosa) (1.0.3)\n",
      "Requirement already satisfied: torch==2.6.0 in /opt/anaconda3/lib/python3.12/site-packages (from torchaudio) (2.6.0)\n",
      "Requirement already satisfied: filelock in /opt/anaconda3/lib/python3.12/site-packages (from torch==2.6.0->torchaudio) (3.13.1)\n",
      "Requirement already satisfied: networkx in /opt/anaconda3/lib/python3.12/site-packages (from torch==2.6.0->torchaudio) (3.3)\n",
      "Requirement already satisfied: jinja2 in /opt/anaconda3/lib/python3.12/site-packages (from torch==2.6.0->torchaudio) (3.1.4)\n",
      "Requirement already satisfied: fsspec in /opt/anaconda3/lib/python3.12/site-packages (from torch==2.6.0->torchaudio) (2024.6.1)\n",
      "Requirement already satisfied: nvidia-cuda-nvrtc-cu12==12.4.127 in /opt/anaconda3/lib/python3.12/site-packages (from torch==2.6.0->torchaudio) (12.4.127)\n",
      "Requirement already satisfied: nvidia-cuda-runtime-cu12==12.4.127 in /opt/anaconda3/lib/python3.12/site-packages (from torch==2.6.0->torchaudio) (12.4.127)\n",
      "Requirement already satisfied: nvidia-cuda-cupti-cu12==12.4.127 in /opt/anaconda3/lib/python3.12/site-packages (from torch==2.6.0->torchaudio) (12.4.127)\n",
      "Requirement already satisfied: nvidia-cudnn-cu12==9.1.0.70 in /opt/anaconda3/lib/python3.12/site-packages (from torch==2.6.0->torchaudio) (9.1.0.70)\n",
      "Requirement already satisfied: nvidia-cublas-cu12==12.4.5.8 in /opt/anaconda3/lib/python3.12/site-packages (from torch==2.6.0->torchaudio) (12.4.5.8)\n",
      "Requirement already satisfied: nvidia-cufft-cu12==11.2.1.3 in /opt/anaconda3/lib/python3.12/site-packages (from torch==2.6.0->torchaudio) (11.2.1.3)\n",
      "Requirement already satisfied: nvidia-curand-cu12==10.3.5.147 in /opt/anaconda3/lib/python3.12/site-packages (from torch==2.6.0->torchaudio) (10.3.5.147)\n",
      "Requirement already satisfied: nvidia-cusolver-cu12==11.6.1.9 in /opt/anaconda3/lib/python3.12/site-packages (from torch==2.6.0->torchaudio) (11.6.1.9)\n",
      "Requirement already satisfied: nvidia-cusparse-cu12==12.3.1.170 in /opt/anaconda3/lib/python3.12/site-packages (from torch==2.6.0->torchaudio) (12.3.1.170)\n",
      "Requirement already satisfied: nvidia-cusparselt-cu12==0.6.2 in /opt/anaconda3/lib/python3.12/site-packages (from torch==2.6.0->torchaudio) (0.6.2)\n",
      "Requirement already satisfied: nvidia-nccl-cu12==2.21.5 in /opt/anaconda3/lib/python3.12/site-packages (from torch==2.6.0->torchaudio) (2.21.5)\n",
      "Requirement already satisfied: nvidia-nvtx-cu12==12.4.127 in /opt/anaconda3/lib/python3.12/site-packages (from torch==2.6.0->torchaudio) (12.4.127)\n",
      "Requirement already satisfied: nvidia-nvjitlink-cu12==12.4.127 in /opt/anaconda3/lib/python3.12/site-packages (from torch==2.6.0->torchaudio) (12.4.127)\n",
      "Requirement already satisfied: triton==3.2.0 in /opt/anaconda3/lib/python3.12/site-packages (from torch==2.6.0->torchaudio) (3.2.0)\n",
      "Requirement already satisfied: setuptools in /opt/anaconda3/lib/python3.12/site-packages (from torch==2.6.0->torchaudio) (75.1.0)\n",
      "Requirement already satisfied: sympy==1.13.1 in /opt/anaconda3/lib/python3.12/site-packages (from torch==2.6.0->torchaudio) (1.13.1)\n",
      "Requirement already satisfied: mpmath<1.4,>=1.1.0 in /opt/anaconda3/lib/python3.12/site-packages (from sympy==1.13.1->torch==2.6.0->torchaudio) (1.3.0)\n",
      "Requirement already satisfied: packaging in /opt/anaconda3/lib/python3.12/site-packages (from lazy_loader>=0.1->librosa) (24.1)\n",
      "Requirement already satisfied: llvmlite<0.44,>=0.43.0dev0 in /opt/anaconda3/lib/python3.12/site-packages (from numba>=0.51.0->librosa) (0.43.0)\n",
      "Requirement already satisfied: platformdirs>=2.5.0 in /opt/anaconda3/lib/python3.12/site-packages (from pooch>=1.1->librosa) (3.10.0)\n",
      "Requirement already satisfied: requests>=2.19.0 in /opt/anaconda3/lib/python3.12/site-packages (from pooch>=1.1->librosa) (2.32.3)\n",
      "Requirement already satisfied: threadpoolctl>=3.1.0 in /opt/anaconda3/lib/python3.12/site-packages (from scikit-learn>=1.1.0->librosa) (3.5.0)\n",
      "Requirement already satisfied: cffi>=1.0 in /opt/anaconda3/lib/python3.12/site-packages (from soundfile>=0.12.1->librosa) (1.17.1)\n",
      "Requirement already satisfied: pycparser in /opt/anaconda3/lib/python3.12/site-packages (from cffi>=1.0->soundfile>=0.12.1->librosa) (2.21)\n",
      "Requirement already satisfied: charset-normalizer<4,>=2 in /opt/anaconda3/lib/python3.12/site-packages (from requests>=2.19.0->pooch>=1.1->librosa) (3.3.2)\n",
      "Requirement already satisfied: idna<4,>=2.5 in /opt/anaconda3/lib/python3.12/site-packages (from requests>=2.19.0->pooch>=1.1->librosa) (3.7)\n",
      "Requirement already satisfied: urllib3<3,>=1.21.1 in /opt/anaconda3/lib/python3.12/site-packages (from requests>=2.19.0->pooch>=1.1->librosa) (2.2.3)\n",
      "Requirement already satisfied: certifi>=2017.4.17 in /opt/anaconda3/lib/python3.12/site-packages (from requests>=2.19.0->pooch>=1.1->librosa) (2025.1.31)\n",
      "Requirement already satisfied: MarkupSafe>=2.0 in /opt/anaconda3/lib/python3.12/site-packages (from jinja2->torch==2.6.0->torchaudio) (2.1.3)\n",
      "\u001b[33mWARNING: Running pip as the 'root' user can result in broken permissions and conflicting behaviour with the system package manager, possibly rendering your system unusable.It is recommended to use a virtual environment instead: https://pip.pypa.io/warnings/venv. Use the --root-user-action option if you know what you are doing and want to suppress this warning.\u001b[0m\u001b[33m\n",
      "\u001b[0m"
     ]
    }
   ],
   "source": [
    "# 安装音频处理库\n",
    "!pip install numpy scipy librosa torchaudio"
   ]
  },
  {
   "cell_type": "code",
   "execution_count": 4,
   "id": "dd759517-23d3-4bc1-bc68-24be436df0c6",
   "metadata": {
    "scrolled": true
   },
   "outputs": [
    {
     "name": "stdout",
     "output_type": "stream",
     "text": [
      "Looking in indexes: http://172.16.2.230:8501/simple/\n",
      "Requirement already satisfied: mir_eval in /opt/anaconda3/lib/python3.12/site-packages (0.8.2)\n",
      "Requirement already satisfied: numpy>=1.15.4 in /opt/anaconda3/lib/python3.12/site-packages (from mir_eval) (1.26.4)\n",
      "Requirement already satisfied: scipy>=1.4.0 in /opt/anaconda3/lib/python3.12/site-packages (from mir_eval) (1.13.1)\n",
      "Requirement already satisfied: decorator in /opt/anaconda3/lib/python3.12/site-packages (from mir_eval) (5.1.1)\n",
      "\u001b[33mWARNING: Running pip as the 'root' user can result in broken permissions and conflicting behaviour with the system package manager, possibly rendering your system unusable.It is recommended to use a virtual environment instead: https://pip.pypa.io/warnings/venv. Use the --root-user-action option if you know what you are doing and want to suppress this warning.\u001b[0m\u001b[33m\n",
      "\u001b[0m"
     ]
    }
   ],
   "source": [
    "# 安装评估工具\n",
    "!pip install mir_eval"
   ]
  },
  {
   "cell_type": "markdown",
   "id": "45594aa5-bd29-445b-a29a-c1e8926e0611",
   "metadata": {},
   "source": [
    "## 1.2 检查 GPU/CPU 可用情况\n",
    "安装完成后，运行以下 Python 代码，确认 PyTorch 是否正确安装，并检查 GPU 是否可用："
   ]
  },
  {
   "cell_type": "code",
   "execution_count": 5,
   "id": "fad9a84c-943d-4332-95ac-c67a188b2a71",
   "metadata": {},
   "outputs": [
    {
     "name": "stdout",
     "output_type": "stream",
     "text": [
      "PyTorch 版本: 2.6.0+cu124\n",
      "✅ GPU 可用！\n",
      "GPU 数量: 1\n",
      "当前 GPU: NVIDIA GeForce GTX 1080\n"
     ]
    }
   ],
   "source": [
    "import torch\n",
    "\n",
    "# 检查 PyTorch 版本\n",
    "print(\"PyTorch 版本:\", torch.__version__)\n",
    "\n",
    "# 检查 GPU 是否可用\n",
    "if torch.cuda.is_available():\n",
    "    print(\"✅ GPU 可用！\")\n",
    "    print(\"GPU 数量:\", torch.cuda.device_count())\n",
    "    print(\"当前 GPU:\", torch.cuda.get_device_name(0))\n",
    "else:\n",
    "    print(\"❌ 没有检测到 GPU，使用 CPU 运行。\")\n",
    "\n",
    "# 检查 MPS (适用于 Mac M1/M2)\n",
    "if torch.backends.mps.is_available():\n",
    "    print(\"✅ MPS 可用！（Mac M1/M2 加速）\")"
   ]
  },
  {
   "cell_type": "markdown",
   "id": "0a879e64-3a9e-46db-a8df-b29432b9900f",
   "metadata": {},
   "source": [
    "## 1.3 解决可能的问题\n",
    "如果你的 GPU 驱动和 CUDA 版本不匹配，可以检查 CUDA 版本："
   ]
  },
  {
   "cell_type": "code",
   "execution_count": 6,
   "id": "7a4766c7-69dd-4699-9a51-ddf02d72eae3",
   "metadata": {
    "scrolled": true
   },
   "outputs": [
    {
     "name": "stdout",
     "output_type": "stream",
     "text": [
      "Sun Mar 16 16:24:18 2025       \n",
      "+-----------------------------------------------------------------------------------------+\n",
      "| NVIDIA-SMI 560.35.03              Driver Version: 560.35.03      CUDA Version: 12.6     |\n",
      "|-----------------------------------------+------------------------+----------------------+\n",
      "| GPU  Name                 Persistence-M | Bus-Id          Disp.A | Volatile Uncorr. ECC |\n",
      "| Fan  Temp   Perf          Pwr:Usage/Cap |           Memory-Usage | GPU-Util  Compute M. |\n",
      "|                                         |                        |               MIG M. |\n",
      "|=========================================+========================+======================|\n",
      "|   0  NVIDIA GeForce GTX 1080        Off |   00000000:02:00.0  On |                  N/A |\n",
      "| 35%   44C    P8              6W /  180W |     427MiB /   8192MiB |      0%      Default |\n",
      "|                                         |                        |                  N/A |\n",
      "+-----------------------------------------+------------------------+----------------------+\n",
      "                                                                                         \n",
      "+-----------------------------------------------------------------------------------------+\n",
      "| Processes:                                                                              |\n",
      "|  GPU   GI   CI        PID   Type   Process name                              GPU Memory |\n",
      "|        ID   ID                                                               Usage      |\n",
      "|=========================================================================================|\n",
      "|    0   N/A  N/A      1349      G   /usr/lib/xorg/Xorg                            228MiB |\n",
      "|    0   N/A  N/A      1548    C+G   ...libexec/gnome-remote-desktop-daemon        106MiB |\n",
      "|    0   N/A  N/A      1610      G   /usr/bin/gnome-shell                           67MiB |\n",
      "|    0   N/A  N/A      1813      G   /usr/local/sunlogin/bin/sunloginclient         10MiB |\n",
      "|    0   N/A  N/A      2502      G   ...) Chrome/58.0.3029.81 Safari/537.36          2MiB |\n",
      "|    0   N/A  N/A      2524      G   ...en=C69CA07AF726BBF4C10FF63C5A3A1889          2MiB |\n",
      "|    0   N/A  N/A    242155      G   /opt/teamviewer/tv_bin/TeamViewer               2MiB |\n",
      "+-----------------------------------------------------------------------------------------+\n"
     ]
    }
   ],
   "source": [
    "!nvidia-smi"
   ]
  },
  {
   "cell_type": "markdown",
   "id": "ebc404ce-f6fc-4bfe-bfee-b0c26e62621e",
   "metadata": {},
   "source": [
    "# 2. 数据加载"
   ]
  },
  {
   "cell_type": "markdown",
   "id": "6ba00ce9-d3fb-41d2-b398-7f2f41edc8a0",
   "metadata": {
    "jp-MarkdownHeadingCollapsed": true
   },
   "source": [
    "## 2.1 数据集结构回顾\n",
    "你的数据集在：\n",
    "\n",
    "```swift\n",
    "/home/easyai/DualDomain-SpeechSeparation/LibriMix-master/storage_dir/Libri2Mix/wav8k/min/train-360/\n",
    "```\n",
    "里面应该包含：\n",
    "\n",
    "```bash\n",
    "train-360/\n",
    "├── mix_clean/   # 混合语音\n",
    "├── s1/          # 目标说话人 1\n",
    "├── s2/          # 目标说话人 2\n",
    "├── noise/       # (如果包含噪声)\n",
    "└── metadata/    # 数据集信息\n",
    "```"
   ]
  },
  {
   "cell_type": "markdown",
   "id": "258fd7bd-3980-4c67-8b48-7b5d63f9f314",
   "metadata": {},
   "source": [
    "## 2.2 创建 PyTorch Dataset\n",
    "我们需要读取 混合语音（mix_clean）和 对应的说话人语音（s1、s2）。"
   ]
  },
  {
   "cell_type": "code",
   "execution_count": 7,
   "id": "0b985816-7038-4b94-9b63-27a83bfa8212",
   "metadata": {
    "scrolled": true
   },
   "outputs": [
    {
     "name": "stdout",
     "output_type": "stream",
     "text": [
      "对齐后文件数: 50800\n"
     ]
    }
   ],
   "source": [
    "import torch\n",
    "import torchaudio\n",
    "from torch.utils.data import Dataset, DataLoader\n",
    "import os\n",
    "\n",
    "class LibriMixDataset(Dataset):\n",
    "    def __init__(self, data_root):\n",
    "        \"\"\"\n",
    "        初始化 LibriMix 数据集\n",
    "        \"\"\"\n",
    "        self.data_root = data_root\n",
    "        mix_files = set(os.listdir(os.path.join(data_root, \"mix_clean\")))\n",
    "        s1_files = set(os.listdir(os.path.join(data_root, \"s1\")))\n",
    "        s2_files = set(os.listdir(os.path.join(data_root, \"s2\")))\n",
    "\n",
    "        # 取交集,确保文件一致\n",
    "        common_files = sorted(list(mix_files & s1_files & s2_files))\n",
    "\n",
    "        self.mix_files = common_files\n",
    "        self.s1_files = common_files\n",
    "        self.s2_files = common_files\n",
    "\n",
    "        print(f\"对齐后文件数: {len(self.mix_files)}\")\n",
    "\n",
    "    def __len__(self):\n",
    "        return len(self.mix_files)\n",
    "\n",
    "    def __getitem__(self, idx):\n",
    "        \"\"\"\n",
    "        读取单个数据样本：\n",
    "        - 混合语音 mix\n",
    "        - 目标语音 s1 和 s2\n",
    "        \"\"\"\n",
    "        mix_path = os.path.join(self.data_root, \"mix_clean\", self.mix_files[idx])\n",
    "        s1_path = os.path.join(self.data_root, \"s1\", self.s1_files[idx])\n",
    "        s2_path = os.path.join(self.data_root, \"s2\", self.s2_files[idx])\n",
    "    \n",
    "        # 读取音频\n",
    "        mix_wav, sr = torchaudio.load(mix_path)\n",
    "        s1_wav, _ = torchaudio.load(s1_path)\n",
    "        s2_wav, _ = torchaudio.load(s2_path)\n",
    "\n",
    "        # 确保所有音频是单通道\n",
    "        mix_wav = mix_wav.mean(dim=0, keepdim=True) if mix_wav.shape[0] > 1 else mix_wav\n",
    "        s1_wav = s1_wav.mean(dim=0, keepdim=True) if s1_wav.shape[0] > 1 else s1_wav\n",
    "        s2_wav = s2_wav.mean(dim=0, keepdim=True) if s2_wav.shape[0] > 1 else s2_wav\n",
    "\n",
    "        return mix_wav, s1_wav, s2_wav, sr\n",
    "\n",
    "def collate_fn(batch):\n",
    "    \"\"\"\n",
    "    处理变长的音频数据，进行填充（Padding）\n",
    "    \"\"\"\n",
    "    mix, s1, s2, sr = zip(*batch)\n",
    "\n",
    "    # 确保所有音频都是 (1, length) 形状\n",
    "    mix = [x if x.dim() == 2 else x.unsqueeze(0) for x in mix]\n",
    "    s1 = [x if x.dim() == 2 else x.unsqueeze(0) for x in s1]\n",
    "    s2 = [x if x.dim() == 2 else x.unsqueeze(0) for x in s2]\n",
    "\n",
    "    # 找到最长的音频长度\n",
    "    max_len = max(x.shape[1] for x in mix)\n",
    "\n",
    "    # 填充音频，使它们长度对齐\n",
    "    def pad_audio(wav, target_len):\n",
    "        pad_size = target_len - wav.shape[1]\n",
    "        return torch.nn.functional.pad(wav, (0, pad_size))\n",
    "\n",
    "    mix = torch.stack([pad_audio(x, max_len) for x in mix])\n",
    "    s1 = torch.stack([pad_audio(x, max_len) for x in s1])\n",
    "    s2 = torch.stack([pad_audio(x, max_len) for x in s2])\n",
    "\n",
    "    return mix, s1, s2, sr\n",
    "\n",
    "# 设置数据集路径\n",
    "data_root = \"train-360\"\n",
    "dataset = LibriMixDataset(data_root)\n",
    "\n",
    "# 创建 DataLoader\n",
    "dataloader = DataLoader(dataset, batch_size=4, shuffle=True, collate_fn=collate_fn)\n",
    "\n",
    "# 读取一个批次\n",
    "#for mix, s1, s2, sr in dataloader:\n",
    "#    print(f\"采样率: {sr}\")\n",
    "#    print(f\"混合音频形状: {mix.shape}\")  # 形状应为 (batch_size, 1, max_samples)\n"
   ]
  },
  {
   "cell_type": "markdown",
   "id": "2e764a30-d198-41ad-9dab-c0bfcbe1886a",
   "metadata": {},
   "source": [
    "## 2.3 测试数据加载\n",
    "运行以下代码，检查数据是否正确加载："
   ]
  },
  {
   "cell_type": "code",
   "execution_count": 8,
   "id": "54520ddb-20cf-4ca8-9d03-f4084dfcd739",
   "metadata": {
    "scrolled": true
   },
   "outputs": [
    {
     "name": "stdout",
     "output_type": "stream",
     "text": [
      "采样率: (8000, 8000, 8000, 8000)\n",
      "混合音频形状: torch.Size([4, 1, 108080])\n",
      "目标音频 1 形状: torch.Size([4, 1, 108080])\n",
      "目标音频 2 形状: torch.Size([4, 1, 108080])\n"
     ]
    }
   ],
   "source": [
    "# 读取一个批次\n",
    "for mix, s1, s2, sr in dataloader:\n",
    "    print(f\"采样率: {sr}\")\n",
    "    print(f\"混合音频形状: {mix.shape}\")  # 形状应为 (batch_size, 1, samples)\n",
    "    print(f\"目标音频 1 形状: {s1.shape}\")\n",
    "    print(f\"目标音频 2 形状: {s2.shape}\")\n",
    "    break"
   ]
  },
  {
   "cell_type": "markdown",
   "id": "ccc4c2ad-4957-441b-9f88-3b7fc94f163a",
   "metadata": {},
   "source": [
    "# 3. 模型实现（Dual-Domain Joint Encoder）\n",
    "在这个步骤，我们将完成： ✅ 时域编码器\n",
    "\n",
    "✅ 频域转换（STFT）\n",
    "\n",
    "✅ 频域编码器\n",
    "\n",
    "✅ 双域特征融合\n",
    "\n",
    "✅ 分离掩码预测\n",
    "\n",
    "✅ 反频域变换（ISTFT）\n",
    "\n",
    "✅ 完整模型封装"
   ]
  },
  {
   "attachments": {
    "73e19828-0b3a-489b-9c89-1bbcb9b1a30a.png": {
     "image/png": "[encoded data removed]"
    },
    "e0435553-0589-4e53-ae1f-bb013e9ff3a6.png": {
     "image/png": "[encoded data removed]"
    }
   },
   "cell_type": "markdown",
   "id": "be4cbbe8-d9ac-40c4-9268-f6bc5029c1a8",
   "metadata": {
    "jp-MarkdownHeadingCollapsed": true
   },
   "source": [
    "## 3.1 模型结构\n",
    "整个 Dual-Domain Joint Encoder 语音分离模型的结构如下：\n",
    "\n",
    "1.时域编码器：使用 1D 卷积 处理原始语音。\n",
    "\n",
    "2.频域转换（STFT）：将音频信号转换到频域，提取 频谱特征。\n",
    "\n",
    "3.频域编码器：对频谱特征进行编码。\n",
    "\n",
    "4.双域特征融合：将 时域 + 频域特征 结合，提高分离效果。\n",
    "\n",
    "5.掩码预测：预测 分离掩码，用于恢复目标语音。\n",
    "\n",
    "6.反频域变换（ISTFT）：将分离的频域信号转换回时域，生成最终的语音输出。\n",
    "\n",
    "![image.png](attachment:73e19828-0b3a-489b-9c89-1bbcb9b1a30a.png)\n",
    "\n",
    "![image.png](attachment:e0435553-0589-4e53-ae1f-bb013e9ff3a6.png)"
   ]
  },
  {
   "cell_type": "markdown",
   "id": "82d3e674-5306-4223-9f30-931d1b894447",
   "metadata": {},
   "source": [
    "## 3.2 代码实现"
   ]
  },
  {
   "cell_type": "code",
   "execution_count": 9,
   "id": "42777396-63a7-426c-85bb-48248f7b51b6",
   "metadata": {},
   "outputs": [],
   "source": [
    "import torch\n",
    "import torch.nn as nn\n",
    "import torch.nn.functional as F\n",
    "import torchaudio\n",
    "\n",
    "class DualDomainJointEncoder(nn.Module):\n",
    "    def __init__(self, encoder_dim=256, n_fft=512, hop_length=256, num_sources=2):\n",
    "        super(DualDomainJointEncoder, self).__init__()\n",
    "        self.n_fft = n_fft\n",
    "        self.hop_length = hop_length\n",
    "        self.num_sources = num_sources\n",
    "\n",
    "        # ===== 时域分支：Conv-TasNet 风格 =====\n",
    "        # Conv-TasNet 的 encoder：无偏置卷积，学习基函数\n",
    "        self.time_encoder = nn.Conv1d(1, encoder_dim, kernel_size=16, stride=8, bias=False)\n",
    "        # 对应的 decoder：转置卷积，用于将潜在表示重构回时域\n",
    "        self.time_decoder = nn.ConvTranspose1d(encoder_dim, 1, kernel_size=16, stride=8, bias=False)\n",
    "\n",
    "        # ===== 频域分支 =====\n",
    "        # 频域特征提取（STFT 后的幅度谱）\n",
    "        self.freq_encoder = nn.Conv1d(n_fft // 2 + 1, encoder_dim, kernel_size=3, padding=1)\n",
    "\n",
    "        # ===== 时频融合模块 =====\n",
    "        self.domain_fusion = nn.Sequential(\n",
    "            nn.Conv1d(encoder_dim * 2, encoder_dim, kernel_size=1),\n",
    "            nn.ReLU(),\n",
    "            nn.Conv1d(encoder_dim, encoder_dim, kernel_size=1)\n",
    "        )\n",
    "\n",
    "        # ===== 分离网络 =====\n",
    "        self.separation_net = nn.Sequential(\n",
    "            nn.Conv1d(encoder_dim, encoder_dim, kernel_size=3, padding=1),\n",
    "            nn.ReLU(),\n",
    "            nn.Conv1d(encoder_dim, encoder_dim, kernel_size=3, padding=1),\n",
    "            nn.ReLU()\n",
    "        )\n",
    "\n",
    "        # ===== 掩码预测 =====\n",
    "        # 在潜在域上预测每个源的掩码，输出通道数为 num_sources * encoder_dim\n",
    "        self.mask_predictor = nn.Conv1d(encoder_dim, num_sources * encoder_dim, kernel_size=1)\n",
    "\n",
    "    def forward(self, waveform):\n",
    "        \"\"\"\n",
    "        输入:\n",
    "         - waveform: (B, 1, samples) - 原始混合语音\n",
    "\n",
    "        输出:\n",
    "         - separated_speech: (B, num_sources, samples) - 分离后的语音\n",
    "        \"\"\"\n",
    "        # ---- 时域编码（Conv-TasNet Encoder）----\n",
    "        # 输出形状: (B, encoder_dim, time_steps)\n",
    "        time_feat = F.relu(self.time_encoder(waveform))\n",
    "\n",
    "        # ---- 频域分支 ----\n",
    "        # 计算 STFT: 得到形状 (B, freq_bins, time_steps) 的复数张量\n",
    "        spec = torch.stft(waveform.squeeze(1), n_fft=self.n_fft, hop_length=self.hop_length, return_complex=True)\n",
    "        # 取幅度谱，并添加通道维度: (B, 1, freq_bins, time_steps)\n",
    "        spec_mag = spec.abs().unsqueeze(1)\n",
    "        # 频域特征提取: (B, encoder_dim, time_steps)\n",
    "        freq_feat = F.relu(self.freq_encoder(spec_mag.squeeze(1)))\n",
    "\n",
    "        # ---- 保证时域和频域特征在时间维度上对齐 ----\n",
    "        target_time_steps = freq_feat.shape[2]\n",
    "        time_feat = F.interpolate(time_feat, size=target_time_steps, mode=\"nearest\")\n",
    "\n",
    "        # ---- 时频融合 ----\n",
    "        # 拼接时域和频域特征: (B, 2*encoder_dim, time_steps)\n",
    "        combined_feat = torch.cat([time_feat, freq_feat], dim=1)\n",
    "        fused_feat = self.domain_fusion(combined_feat)  # (B, encoder_dim, time_steps)\n",
    "\n",
    "        # ---- 分离网络 ----\n",
    "        separated_feat = self.separation_net(fused_feat)  # (B, encoder_dim, time_steps)\n",
    "\n",
    "        # ---- 掩码预测 ----\n",
    "        # 输出形状: (B, num_sources*encoder_dim, time_steps)\n",
    "        masks = self.mask_predictor(separated_feat)\n",
    "        # 重塑为 (B, num_sources, encoder_dim, time_steps)\n",
    "        B, _, T = masks.shape\n",
    "        masks = masks.view(B, self.num_sources, -1, T)\n",
    "        masks = torch.sigmoid(masks)\n",
    "\n",
    "        # ---- 在潜在域上应用掩码 ----\n",
    "        # 扩展时域编码特征形状: (B, 1, encoder_dim, time_steps)\n",
    "        time_feat = time_feat.unsqueeze(1)\n",
    "        # 应用掩码: (B, num_sources, encoder_dim, time_steps)\n",
    "        masked_time_feat = masks * time_feat\n",
    "\n",
    "        # ---- 利用 Conv-TasNet Decoder 重构时域语音 ----\n",
    "        # 合并 batch 和 source 维度: (B*num_sources, encoder_dim, time_steps)\n",
    "        B, num_sources, encoder_dim, T = masked_time_feat.shape\n",
    "        masked_time_feat = masked_time_feat.reshape(B * num_sources, encoder_dim, T)\n",
    "        # 重构：输出形状 (B*num_sources, 1, samples)\n",
    "        reconstructed = self.time_decoder(masked_time_feat)\n",
    "        \n",
    "         # ---- 插值调整输出长度与原始波形一致 ----\n",
    "        target_length = waveform.shape[-1]\n",
    "        reconstructed = F.interpolate(reconstructed, size=target_length, mode='linear', align_corners=False)\n",
    "\n",
    "        # 重塑回 (B, num_sources, samples)\n",
    "        separated_speech = reconstructed.reshape(B, num_sources, target_length)\n",
    "\n",
    "        return separated_speech\n"
   ]
  },
  {
   "cell_type": "markdown",
   "id": "7ad08c21-5325-4cd7-8040-37f92e254730",
   "metadata": {},
   "source": [
    "## 3.3 测试模型\n",
    "在训练之前，我们先测试一下模型的输出是否正确："
   ]
  },
  {
   "cell_type": "code",
   "execution_count": 10,
   "id": "7a3d912a-3890-4f55-b256-e3c453ea7d6b",
   "metadata": {
    "scrolled": true
   },
   "outputs": [
    {
     "name": "stdout",
     "output_type": "stream",
     "text": [
      "输入形状: torch.Size([4, 1, 32000])\n",
      "输出形状: torch.Size([4, 2, 32000])\n"
     ]
    },
    {
     "name": "stderr",
     "output_type": "stream",
     "text": [
      "/opt/anaconda3/lib/python3.12/site-packages/torch/functional.py:709: UserWarning: A window was not provided. A rectangular window will be applied,which is known to cause spectral leakage. Other windows such as torch.hann_window or torch.hamming_window can are recommended to reduce spectral leakage.To suppress this warning and use a rectangular window, explicitly set `window=torch.ones(n_fft, device=<device>)`. (Triggered internally at /pytorch/aten/src/ATen/native/SpectralOps.cpp:836.)\n",
      "  return _VF.stft(  # type: ignore[attr-defined]\n"
     ]
    }
   ],
   "source": [
    "# 测试输入\n",
    "batch_size = 4\n",
    "sample_length = 32000  # 假设 4 秒的音频，采样率 8kHz\n",
    "test_input = torch.randn(batch_size, 1, sample_length)  # (batch, 1, samples)\n",
    "\n",
    "# 初始化模型\n",
    "model = DualDomainJointEncoder()\n",
    "\n",
    "# 前向传播\n",
    "output = model(test_input)\n",
    "\n",
    "# 打印输出信息\n",
    "print(f\"输入形状: {test_input.shape}\") \n",
    "print(f\"输出形状: {output.shape}\")    "
   ]
  },
  {
   "cell_type": "markdown",
   "id": "c2b7abc4-b27b-4ea3-b417-ef8eea18429d",
   "metadata": {},
   "source": [
    "# 4.训练流程\n",
    "在这个步骤，我们将完成： ✅ 定义损失函数（SI-SNR）\n",
    "\n",
    "✅ 构建优化器\n",
    "\n",
    "✅ 训练循环（数据输入 → 前向传播 → 计算损失 → 反向传播 → 更新参数）\n",
    "\n",
    "✅ 保存模型"
   ]
  },
  {
   "cell_type": "markdown",
   "id": "8342242d-3e8e-4ae1-b320-f8e0ca43de5d",
   "metadata": {},
   "source": [
    "## 4.1 定义损失函数\n",
    "在语音分离任务中，常用的损失函数是：\n",
    "\n",
    "SI-SNR（Scale-Invariant Signal-to-Noise Ratio）：尺度不变信噪比\n",
    "\n",
    "PIT（Permutation Invariant Training）：用于解决说话人顺序不确定性问题"
   ]
  },
  {
   "cell_type": "code",
   "execution_count": 11,
   "id": "9947bb68-3fc9-40c6-aa73-67197128644e",
   "metadata": {},
   "outputs": [],
   "source": [
    "def si_snr_loss(est_source, target_source, eps=1e-8):\n",
    "    \"\"\"\n",
    "    计算 SI-SNR 损失\n",
    "    :param est_source: 估计的语音信号 (batch, 1, samples)\n",
    "    :param target_source: 真实的语音信号 (batch, 1, samples)\n",
    "    :return: SI-SNR 损失\n",
    "    \"\"\"\n",
    "    # 计算投影\n",
    "    target = torch.sum(est_source * target_source, dim=-1, keepdim=True) * target_source / \\\n",
    "             (torch.sum(target_source**2, dim=-1, keepdim=True) + eps)\n",
    "\n",
    "    # 计算误差信号\n",
    "    noise = est_source - target\n",
    "\n",
    "    # 计算信噪比\n",
    "    ratio = torch.sum(target**2, dim=-1) / (torch.sum(noise**2, dim=-1) + eps)\n",
    "\n",
    "    # 转换为 dB\n",
    "    si_snr = 10 * torch.log10(ratio + eps)\n",
    "\n",
    "    return -si_snr.mean()\n"
   ]
  },
  {
   "cell_type": "code",
   "execution_count": 12,
   "id": "d7833314-acb5-4d24-b9ab-d1d523ffba15",
   "metadata": {},
   "outputs": [],
   "source": [
    "def pit_loss(est_sources, target_sources):\n",
    "    \"\"\"\n",
    "    计算 PIT（Permutation Invariant Training）损失\n",
    "    :param est_sources: 估计的语音信号 (batch, 2, samples)\n",
    "    :param target_sources: 真实的语音信号 (batch, 2, samples)\n",
    "    :return: 最优排列的 SI-SNR 损失\n",
    "    \"\"\"\n",
    "    loss_1 = (si_snr_loss(est_sources[:, 0, :], target_sources[:, 0, :]) + \\\n",
    "             si_snr_loss(est_sources[:, 1, :], target_sources[:, 1, :])) / 2\n",
    "    \n",
    "    loss_2 = (si_snr_loss(est_sources[:, 0, :], target_sources[:, 1, :]) + \\\n",
    "             si_snr_loss(est_sources[:, 1, :], target_sources[:, 0, :])) / 2\n",
    "\n",
    "    return torch.min(loss_1, loss_2)"
   ]
  },
  {
   "cell_type": "markdown",
   "id": "a944aa05-d6d5-46b4-a22a-1a8830e70441",
   "metadata": {},
   "source": [
    "## 4.2 训练循环"
   ]
  },
  {
   "cell_type": "code",
   "execution_count": null,
   "id": "8169c8fd-746e-48e7-9d0a-a13feb23442f",
   "metadata": {
    "scrolled": true
   },
   "outputs": [
    {
     "name": "stdout",
     "output_type": "stream",
     "text": [
      "Epoch [1/10], Loss: 47.3992\n"
     ]
    }
   ],
   "source": [
    "import torch.optim as optim\n",
    "\n",
    "# 设备选择\n",
    "device = torch.device(\"cuda\" if torch.cuda.is_available() else \"cpu\")\n",
    "\n",
    "# 加载模型\n",
    "model = DualDomainJointEncoder().to(device)\n",
    "\n",
    "# 选择优化器\n",
    "optimizer = optim.Adam(model.parameters(), lr=5e-4)\n",
    "\n",
    "# 训练参数\n",
    "epochs = 10\n",
    "train_loss_history = []\n",
    "\n",
    "# 训练循环\n",
    "for epoch in range(epochs):\n",
    "    model.train()\n",
    "    total_loss = 0\n",
    "\n",
    "    for mix, target1, target2, sr in dataloader:\n",
    "        # 发送数据到 GPU\n",
    "        mix, target1, target2 = mix.to(device), target1.to(device), target2.to(device)\n",
    "\n",
    "        # 预测\n",
    "        output = model(mix)  # (batch, 2, samples)\n",
    "\n",
    "        # 组合真实语音\n",
    "        target_sources = torch.stack([target1.squeeze(1), target2.squeeze(1)], dim=1)  # (batch, 2, samples)\n",
    "\n",
    "        # 计算损失 (使用 PIT)\n",
    "        loss = pit_loss(output, target_sources)\n",
    "\n",
    "        # 反向传播\n",
    "        optimizer.zero_grad()\n",
    "        loss.backward()\n",
    "        optimizer.step()\n",
    "\n",
    "        total_loss += loss.item()\n",
    "\n",
    "    avg_loss = total_loss / len(dataloader)\n",
    "    train_loss_history.append(avg_loss)\n",
    "\n",
    "    print(f\"Epoch [{epoch+1}/{epochs}], Loss: {avg_loss:.4f}\")\n",
    "\n",
    "    # 每 2 轮保存一次模型\n",
    "    if (epoch + 1) % 2 == 0:\n",
    "        torch.save(model.state_dict(), f\"dual_domain_epoch{epoch+1}.pth\")\n",
    "        print(f\"✅ 模型已保存: dual_domain_epoch{epoch+1}.pth\")"
   ]
  },
  {
   "cell_type": "markdown",
   "id": "023eb92e-19c7-41d5-8b88-eb350ace5403",
   "metadata": {},
   "source": [
    "## 4.3 训练结果可视化\n",
    "使用 matplotlib 绘制损失曲线："
   ]
  },
  {
   "cell_type": "code",
   "execution_count": null,
   "id": "a87969de-d813-43e8-9474-8f8271ec2eb3",
   "metadata": {},
   "outputs": [],
   "source": [
    "import matplotlib.pyplot as plt\n",
    "\n",
    "plt.plot(range(1, epochs+1), train_loss_history, marker='o', linestyle='-')\n",
    "plt.xlabel('Epoch')\n",
    "plt.ylabel('Loss')\n",
    "plt.title('Training Loss Curve')\n",
    "plt.grid()\n",
    "plt.show()"
   ]
  },
  {
   "cell_type": "markdown",
   "id": "431682e8-aa0f-45bd-8f2b-205094f357ac",
   "metadata": {},
   "source": [
    "## 4.4 训练后的模型保存"
   ]
  },
  {
   "cell_type": "code",
   "execution_count": null,
   "id": "9e04e893-b31f-4413-8acc-645b18718ff3",
   "metadata": {},
   "outputs": [],
   "source": [
    "# 手动保存整个模型：\n",
    "torch.save(model.state_dict(), \"dual_domain_final.pth\")\n",
    "print(\"✅ 最终模型已保存: dual_domain_final.pth\")"
   ]
  },
  {
   "cell_type": "code",
   "execution_count": null,
   "id": "fb3f080c-057f-4cf1-8ad8-e96f22628588",
   "metadata": {},
   "outputs": [],
   "source": [
    "# 保存整个模型结构\n",
    "torch.save(model, \"dual_domain_model.pth\")"
   ]
  },
  {
   "cell_type": "markdown",
   "id": "552e543d-cf83-46b3-a870-6c998a8e4b3d",
   "metadata": {},
   "source": [
    "# 5. 模型评估\n",
    "在这个步骤，我们将完成： \n",
    "\n",
    "✅ 计算 SI-SNR（尺度不变信噪比）\n",
    "\n",
    "✅ 计算 SDR（信号失真比）\n",
    "\n",
    "✅ 评估测试数据上的分离性能\n",
    "\n",
    "✅ 可视化训练结果"
   ]
  },
  {
   "cell_type": "markdown",
   "id": "c4a1cca7-8039-4422-b949-f734882bdd14",
   "metadata": {},
   "source": [
    "## 5.1 计算 SI-SNR（尺度不变信噪比）\n",
    "在语音分离任务中，SI-SNR（Scale-Invariant Signal-to-Noise Ratio） 是评估语音质量的核心指标。它衡量的是预测音频和目标音频的相似程度，值越高，分离质量越好。"
   ]
  },
  {
   "cell_type": "code",
   "execution_count": null,
   "id": "c6e46bd3-1eb7-42ea-a125-6cdcccdfa754",
   "metadata": {},
   "outputs": [],
   "source": [
    "def si_snr(est_source, target_source, eps=1e-8):\n",
    "    \"\"\"\n",
    "    计算 SI-SNR（尺度不变信噪比）\n",
    "    :param est_source: 估计的语音信号 (batch, 1, samples)\n",
    "    :param target_source: 真实的语音信号 (batch, 1, samples)\n",
    "    :return: SI-SNR 分数\n",
    "    \"\"\"\n",
    "    # 计算投影\n",
    "    target = torch.sum(est_source * target_source, dim=-1, keepdim=True) * target_source / \\\n",
    "             (torch.sum(target_source**2, dim=-1, keepdim=True) + eps)\n",
    "\n",
    "    # 计算误差信号\n",
    "    noise = est_source - target\n",
    "\n",
    "    # 计算信噪比\n",
    "    ratio = torch.sum(target**2, dim=-1) / (torch.sum(noise**2, dim=-1) + eps)\n",
    "\n",
    "    # 转换为 dB\n",
    "    si_snr_value = 10 * torch.log10(ratio + eps)\n",
    "\n",
    "    return si_snr_value.mean().item()"
   ]
  },
  {
   "cell_type": "markdown",
   "id": "a09ffe40-3785-41ab-b881-1560a6454182",
   "metadata": {
    "jp-MarkdownHeadingCollapsed": true
   },
   "source": [
    "## 5.2 计算 SDR（信号失真比）\n",
    "SDR（Signal-to-Distortion Ratio）用于衡量信号的失真程度。可以使用 mir_eval 进行计算："
   ]
  },
  {
   "cell_type": "code",
   "execution_count": null,
   "id": "dda92dca-d165-4ead-bc35-1e095f7d612f",
   "metadata": {},
   "outputs": [],
   "source": [
    "from mir_eval.separation import bss_eval_sources\n",
    "import numpy as np\n",
    "\n",
    "def eval_sdr(pred, target):\n",
    "    \"\"\"\n",
    "    计算 SDR（信号失真比）\n",
    "    :param pred: 预测语音信号 (batch, samples)\n",
    "    :param target: 真实语音信号 (batch, samples)\n",
    "    :return: SDR 分数\n",
    "    \"\"\"\n",
    "    pred, target = pred.cpu().numpy(), target.cpu().numpy()\n",
    "    sdr, _, _, _ = bss_eval_sources(target, pred)\n",
    "    return sdr.mean()"
   ]
  },
  {
   "cell_type": "markdown",
   "id": "4ce94f78-4ccf-45d8-a31f-ffeb56c33294",
   "metadata": {
    "jp-MarkdownHeadingCollapsed": true
   },
   "source": [
    "## 5.3 评估测试集\n",
    "我们使用 测试数据集（test-360） 进行评估，计算 SI-SNR 和 SDR。"
   ]
  },
  {
   "cell_type": "code",
   "execution_count": null,
   "id": "39790d62-4a0f-4f20-809a-731141941ad4",
   "metadata": {},
   "outputs": [],
   "source": [
    "# 加载测试集\n",
    "test_root = \"test/\"\n",
    "test_dataset = LibriMixDataset(test_root)\n",
    "test_dataloader = DataLoader(test_dataset, batch_size=1, shuffle=False)\n",
    "\n",
    "# 加载训练好的模型\n",
    "model = DualDomainJointEncoder().to(device)\n",
    "model.load_state_dict(torch.load(\"dual_domain_final.pth\"))\n",
    "model.eval()\n",
    "\n",
    "# 评估\n",
    "si_snr_scores = []\n",
    "sdr_scores = []\n",
    "\n",
    "with torch.no_grad():\n",
    "    for mix, target1, target2, sr in test_dataloader:\n",
    "        mix, target1, target2 = mix.to(device), target1.to(device), target2.to(device)\n",
    "\n",
    "        # 预测分离语音\n",
    "        output = model(mix)  # (batch, 2, samples)\n",
    "\n",
    "        # 计算 SI-SNR\n",
    "        si_snr_1 = si_snr(output[:, 0, :], target1)\n",
    "        si_snr_2 = si_snr(output[:, 1, :], target2)\n",
    "        avg_si_snr = (si_snr_1 + si_snr_2) / 2\n",
    "        si_snr_scores.append(avg_si_snr)\n",
    "\n",
    "        # 计算 SDR\n",
    "        sdr_1 = eval_sdr(output[:, 0, :].squeeze(), target1.squeeze())\n",
    "        sdr_2 = eval_sdr(output[:, 1, :].squeeze(), target2.squeeze())\n",
    "        avg_sdr = (sdr_1 + sdr_2) / 2\n",
    "        sdr_scores.append(avg_sdr)\n",
    "\n",
    "        print(f\"SI-SNR: {avg_si_snr:.2f}, SDR: {avg_sdr:.2f}\")\n",
    "\n",
    "# 计算平均值\n",
    "mean_si_snr = np.mean(si_snr_scores)\n",
    "mean_sdr = np.mean(sdr_scores)\n",
    "\n",
    "print(f\"✅ 测试集平均 SI-SNR: {mean_si_snr:.2f} dB\")\n",
    "print(f\"✅ 测试集平均 SDR: {mean_sdr:.2f} dB\")\n"
   ]
  },
  {
   "cell_type": "markdown",
   "id": "fc443d7e-1c1b-47fc-8e2a-84251d31ae00",
   "metadata": {
    "jp-MarkdownHeadingCollapsed": true
   },
   "source": [
    "## 5.4 结果可视化\n",
    "我们绘制 SI-SNR 和 SDR 的分布："
   ]
  },
  {
   "cell_type": "code",
   "execution_count": null,
   "id": "cbfd18ce-9be6-43e3-9640-6ef8aa29342c",
   "metadata": {},
   "outputs": [],
   "source": [
    "import matplotlib.pyplot as plt\n",
    "\n",
    "# 绘制 SI-SNR 分布\n",
    "plt.figure(figsize=(10, 5))\n",
    "plt.hist(si_snr_scores, bins=20, alpha=0.7, label=\"SI-SNR\")\n",
    "plt.axvline(mean_si_snr, color='r', linestyle='dashed', linewidth=2, label=f\"Mean: {mean_si_snr:.2f} dB\")\n",
    "plt.xlabel(\"SI-SNR (dB)\")\n",
    "plt.ylabel(\"Count\")\n",
    "plt.title(\"SI-SNR Distribution on Test Set\")\n",
    "plt.legend()\n",
    "plt.show()\n",
    "\n",
    "# 绘制 SDR 分布\n",
    "plt.figure(figsize=(10, 5))\n",
    "plt.hist(sdr_scores, bins=20, alpha=0.7, label=\"SDR\")\n",
    "plt.axvline(mean_sdr, color='r', linestyle='dashed', linewidth=2, label=f\"Mean: {mean_sdr:.2f} dB\")\n",
    "plt.xlabel(\"SDR (dB)\")\n",
    "plt.ylabel(\"Count\")\n",
    "plt.title(\"SDR Distribution on Test Set\")\n",
    "plt.legend()\n",
    "plt.show()"
   ]
  },
  {
   "cell_type": "markdown",
   "id": "ae13590c-ce6a-4a15-afc8-0375a1acf80d",
   "metadata": {
    "jp-MarkdownHeadingCollapsed": true
   },
   "source": [
    "# 6. 推理测试 (可选)\n",
    "在这个步骤，我们将完成： \n",
    "\n",
    "✅ 加载训练好的模型\n",
    "\n",
    "✅ 输入新的混合语音，进行语音分离\n",
    "\n",
    "✅ 保存 & 播放分离后的音频"
   ]
  },
  {
   "cell_type": "markdown",
   "id": "e6c5a4a9-343f-4d88-86f3-c14854a2207c",
   "metadata": {},
   "source": [
    "## 6.1 加载训练好的模型"
   ]
  },
  {
   "cell_type": "code",
   "execution_count": null,
   "id": "5b448bb1-c5c3-456a-92ef-417bef4cffcf",
   "metadata": {},
   "outputs": [],
   "source": [
    "import torchaudio\n",
    "\n",
    "# 设备选择\n",
    "device = torch.device(\"cuda\" if torch.cuda.is_available() else \"cpu\")\n",
    "\n",
    "# 加载模型\n",
    "model = DualDomainJointEncoder().to(device)\n",
    "model.load_state_dict(torch.load(\"dual_domain_final.pth\"))\n",
    "model.eval()\n",
    "\n",
    "print(\"✅ 模型加载完成！\")"
   ]
  },
  {
   "cell_type": "markdown",
   "id": "b0394811-8b12-435d-819f-1f0dd07dc780",
   "metadata": {},
   "source": [
    "## 6.2 读取测试音频\n",
    "从 LibriMix 测试集选择一个混合音频："
   ]
  },
  {
   "cell_type": "code",
   "execution_count": null,
   "id": "6813ea9a-ca35-4ddd-9015-c0f921c1dac3",
   "metadata": {},
   "outputs": [],
   "source": [
    "import os\n",
    "\n",
    "# 选择测试集中的一个音频样本\n",
    "test_audio_path = \"test/mix_clean/00001.wav\"\n",
    "\n",
    "# 读取音频\n",
    "waveform, sr = torchaudio.load(test_audio_path)\n",
    "waveform = waveform.to(device)\n",
    "\n",
    "print(f\"✅ 加载测试音频: 采样率 {sr}, 形状 {waveform.shape}\")"
   ]
  },
  {
   "cell_type": "markdown",
   "id": "77748543-750f-4023-9644-f5f134076ff1",
   "metadata": {},
   "source": [
    "## 6.3 语音分离"
   ]
  },
  {
   "cell_type": "code",
   "execution_count": null,
   "id": "d0762b9b-ee66-4860-8f0d-6cd830522394",
   "metadata": {},
   "outputs": [],
   "source": [
    "with torch.no_grad():\n",
    "    output = model(waveform.unsqueeze(0))  # (1, 2, samples)\n",
    "    separated_speech = output.squeeze(0)  # (2, samples)\n",
    "\n",
    "# 获取分离后的两个语音\n",
    "speech_1 = separated_speech[0, :].cpu()\n",
    "speech_2 = separated_speech[1, :].cpu()\n",
    "\n",
    "print(\"✅ 语音分离完成！\")\n"
   ]
  },
  {
   "cell_type": "markdown",
   "id": "70e71453-1ee4-43ff-a9cb-afc4a1a5c265",
   "metadata": {},
   "source": [
    "## 6.4 保存分离后的音频"
   ]
  },
  {
   "cell_type": "code",
   "execution_count": null,
   "id": "21991aa2-bebe-4245-8729-f68f7bbb8695",
   "metadata": {},
   "outputs": [],
   "source": [
    "# 创建保存路径\n",
    "output_dir = \"output_audio\"\n",
    "os.makedirs(output_dir, exist_ok=True)\n",
    "\n",
    "# 保存音频\n",
    "torchaudio.save(os.path.join(output_dir, \"speech_1.wav\"), speech_1.unsqueeze(0), sr)\n",
    "torchaudio.save(os.path.join(output_dir, \"speech_2.wav\"), speech_2.unsqueeze(0), sr)\n",
    "\n",
    "print(\"✅ 分离后的音频已保存！\")"
   ]
  },
  {
   "cell_type": "markdown",
   "id": "b1debcbc-d91c-4948-a03a-55952c1aa20a",
   "metadata": {},
   "source": [
    "## 6.5 播放音频\n",
    "在 Python 代码中，我们可以使用 IPython.display.Audio 来播放音频："
   ]
  },
  {
   "cell_type": "code",
   "execution_count": null,
   "id": "4b657936-3dd0-407c-acea-979c2cc36c2b",
   "metadata": {},
   "outputs": [],
   "source": [
    "from IPython.display import Audio\n",
    "\n",
    "print(\"🎧 原始混合音频：\")\n",
    "Audio(test_audio_path)\n",
    "\n",
    "print(\"🎧 分离出的语音 1：\")\n",
    "Audio(os.path.join(output_dir, \"speech_1.wav\"))\n",
    "\n",
    "print(\"🎧 分离出的语音 2：\")\n",
    "Audio(os.path.join(output_dir, \"speech_2.wav\"))"
   ]
  },
  {
   "cell_type": "markdown",
   "id": "fa5f34cc-7427-4fea-b9e6-9cbec913e2e1",
   "metadata": {
    "jp-MarkdownHeadingCollapsed": true
   },
   "source": [
    "# 7. 结果分析(可选)\n",
    "在这个步骤，我们将完成： \n",
    "\n",
    "✅ 绘制波形对比图（原始混合语音 vs. 分离语音）\n",
    "\n",
    "✅ 计算分离效果指标（SDR、SI-SNR）\n",
    "\n",
    "✅ 分析分离质量和可能的改进点"
   ]
  },
  {
   "cell_type": "markdown",
   "id": "0ba8b660-086d-4e2a-a051-fe43542f997a",
   "metadata": {},
   "source": [
    "## 7.1 可视化波形\n",
    "我们将绘制：\n",
    "\n",
    "混合语音（输入）\n",
    "\n",
    "目标语音（Ground Truth）\n",
    "\n",
    "分离出的语音（模型输出）\n",
    "\n",
    "\n",
    "🎯 目标：\n",
    "\n",
    "对比输入混合语音和分离语音的波形\n",
    "\n",
    "查看分离出的语音是否匹配目标语音"
   ]
  },
  {
   "cell_type": "code",
   "execution_count": null,
   "id": "db9ec47f-b01a-4932-9f91-25e60c12b78f",
   "metadata": {},
   "outputs": [],
   "source": [
    "import matplotlib.pyplot as plt\n",
    "\n",
    "# 读取原始目标语音\n",
    "target1_path = \"test/s1/00001.wav\"\n",
    "target2_path = \"test/s2/00001.wav\"\n",
    "\n",
    "target1, _ = torchaudio.load(target1_path)\n",
    "target2, _ = torchaudio.load(target2_path)\n",
    "\n",
    "# 画波形图\n",
    "fig, axs = plt.subplots(4, 1, figsize=(12, 8))\n",
    "\n",
    "# 原始混合语音\n",
    "axs[0].plot(waveform.cpu().squeeze().numpy(), label=\"Mixed Speech\", color=\"black\")\n",
    "axs[0].set_title(\"Mixed Speech (Input)\")\n",
    "axs[0].legend()\n",
    "\n",
    "# 目标语音 1\n",
    "axs[1].plot(target1.cpu().squeeze().numpy(), label=\"Target Speaker 1\", color=\"blue\")\n",
    "axs[1].set_title(\"Target Speaker 1 (Ground Truth)\")\n",
    "axs[1].legend()\n",
    "\n",
    "# 目标语音 2\n",
    "axs[2].plot(target2.cpu().squeeze().numpy(), label=\"Target Speaker 2\", color=\"red\")\n",
    "axs[2].set_title(\"Target Speaker 2 (Ground Truth)\")\n",
    "axs[2].legend()\n",
    "\n",
    "# 分离出的语音\n",
    "axs[3].plot(speech_1.numpy(), label=\"Predicted Speaker 1\", color=\"blue\", linestyle=\"dashed\")\n",
    "axs[3].plot(speech_2.numpy(), label=\"Predicted Speaker 2\", color=\"red\", linestyle=\"dashed\")\n",
    "axs[3].set_title(\"Separated Speech (Model Output)\")\n",
    "axs[3].legend()\n",
    "\n",
    "plt.tight_layout()\n",
    "plt.show()"
   ]
  },
  {
   "cell_type": "markdown",
   "id": "e5ae5349-9292-4441-9daf-6396a1ee51b7",
   "metadata": {},
   "source": [
    "## 7.2 计算分离质量\n",
    "我们用 SI-SNR 和 SDR 评估分离质量："
   ]
  },
  {
   "cell_type": "code",
   "execution_count": null,
   "id": "bc492575-8b72-48d4-9ad3-eb9e94d8f8c5",
   "metadata": {},
   "outputs": [],
   "source": [
    "# 计算 SI-SNR\n",
    "si_snr_1 = si_snr(speech_1.unsqueeze(0), target1)\n",
    "si_snr_2 = si_snr(speech_2.unsqueeze(0), target2)\n",
    "print(f\"✅ 分离后 SI-SNR: Speaker 1: {si_snr_1:.2f} dB, Speaker 2: {si_snr_2:.2f} dB\")\n",
    "\n",
    "# 计算 SDR\n",
    "sdr_1 = eval_sdr(speech_1.unsqueeze(0), target1)\n",
    "sdr_2 = eval_sdr(speech_2.unsqueeze(0), target2)\n",
    "print(f\"✅ 分离后 SDR: Speaker 1: {sdr_1:.2f} dB, Speaker 2: {sdr_2:.2f} dB\")\n"
   ]
  },
  {
   "cell_type": "markdown",
   "id": "8d5df0bc-ee43-485c-9c0b-02a5d343a335",
   "metadata": {},
   "source": [
    "🎯 目标：\n",
    "\n",
    "检查 SI-SNR 是否提高\n",
    "\n",
    "查看 SDR 评分是否合理\n",
    "\n",
    "✅ 参考标准（WSJ0-2mix 语音分离任务）：\n",
    "\n",
    "SI-SNR > 10dB 表示分离质量较好\n",
    "\n",
    "SDR > 10dB 说明信号失真较低"
   ]
  },
  {
   "cell_type": "code",
   "execution_count": null,
   "id": "65c5c499-c7ac-4349-9905-40564ddd10a2",
   "metadata": {},
   "outputs": [],
   "source": []
  }
 ],
 "metadata": {
  "kernelspec": {
   "display_name": "Python 3 (ipykernel)",
   "language": "python",
   "name": "python3"
  },
  "language_info": {
   "codemirror_mode": {
    "name": "ipython",
    "version": 3
   },
   "file_extension": ".py",
   "mimetype": "text/x-python",
   "name": "python",
   "nbconvert_exporter": "python",
   "pygments_lexer": "ipython3",
   "version": "3.10.12"
  }
 },
 "nbformat": 4,
 "nbformat_minor": 5
}
